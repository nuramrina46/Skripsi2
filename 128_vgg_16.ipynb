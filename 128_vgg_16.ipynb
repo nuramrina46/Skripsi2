{
  "nbformat": 4,
  "nbformat_minor": 0,
  "metadata": {
    "colab": {
      "name": "128 vgg 16.ipynb",
      "provenance": [],
      "mount_file_id": "1ArN_TkiEL3IaNrKZ0k5nyuzVEskdaxKL",
      "authorship_tag": "ABX9TyP/Ntm0BB+3Ou/qsyBmpC5m",
      "include_colab_link": true
    },
    "kernelspec": {
      "name": "python3",
      "display_name": "Python 3"
    },
    "language_info": {
      "name": "python"
    }
  },
  "cells": [
    {
      "cell_type": "markdown",
      "metadata": {
        "id": "view-in-github",
        "colab_type": "text"
      },
      "source": [
        "<a href=\"https://colab.research.google.com/github/nuramrina46/Skripsi2/blob/main/128_vgg_16.ipynb\" target=\"_parent\"><img src=\"https://colab.research.google.com/assets/colab-badge.svg\" alt=\"Open In Colab\"/></a>"
      ]
    },
    {
      "cell_type": "code",
      "execution_count": 13,
      "metadata": {
        "colab": {
          "base_uri": "https://localhost:8080/"
        },
        "id": "_7DBWx0BXhEm",
        "outputId": "84c02fe3-6518-4a05-a7fc-e42fd4ba3892"
      },
      "outputs": [
        {
          "output_type": "stream",
          "name": "stdout",
          "text": [
            "Drive already mounted at /content/drive; to attempt to forcibly remount, call drive.mount(\"/content/drive\", force_remount=True).\n"
          ]
        }
      ],
      "source": [
        "from google.colab import drive\n",
        "drive.mount('/content/drive')"
      ]
    },
    {
      "cell_type": "code",
      "source": [
        "cd /content/drive/My Drive/Colab Notebooks"
      ],
      "metadata": {
        "colab": {
          "base_uri": "https://localhost:8080/"
        },
        "id": "7pvMcnm0XuDB",
        "outputId": "0b5e1c1d-8e9e-41c3-9c26-cea1c07e5709"
      },
      "execution_count": 14,
      "outputs": [
        {
          "output_type": "stream",
          "name": "stdout",
          "text": [
            "/content/drive/My Drive/Colab Notebooks\n"
          ]
        }
      ]
    },
    {
      "cell_type": "code",
      "source": [
        "ls"
      ],
      "metadata": {
        "colab": {
          "base_uri": "https://localhost:8080/"
        },
        "id": "DozWxn7lXurj",
        "outputId": "57a8430b-f5bc-474b-9b0f-4b00cbdd8a3a"
      },
      "execution_count": 15,
      "outputs": [
        {
          "output_type": "stream",
          "name": "stdout",
          "text": [
            "'128 vgg 16.ipynb'   \u001b[0m\u001b[01;34mPneugrey\u001b[0m/                     Untitled0.ipynb\n",
            " \u001b[01;34m2pneumonia\u001b[0m/        'pneumonia VGG 16 fiX.ipynb'   Untitled1.ipynb\n",
            " \u001b[01;34mDataset\u001b[0m/           'Pneumonia VGG 16.ipynb'       Untitled2.ipynb\n",
            " \u001b[01;34mDataset1\u001b[0m/          'pneumonia vgg 19.ipynb'\n"
          ]
        }
      ]
    },
    {
      "cell_type": "code",
      "source": [
        "from keras.models import Model\n",
        "from keras.models import load_model\n",
        "from keras.models import Sequential\n",
        "from keras.layers.convolutional import Convolution2D\n",
        "from keras.layers.convolutional import MaxPooling2D\n",
        "from keras.layers.convolutional import ZeroPadding2D\n",
        "from keras.layers.core import Activation\n",
        "from keras.layers.core import Flatten\n",
        "from keras.layers.core import Dense\n",
        "from keras.layers.core import Dropout\n",
        "from keras.layers import BatchNormalization\n",
        "from keras import regularizers\n",
        "from keras.preprocessing.image import ImageDataGenerator\n",
        "from tensorflow.keras.optimizers import RMSprop, Adam, SGD\n",
        "from sklearn.preprocessing import LabelBinarizer\n",
        "from sklearn.model_selection import train_test_split\n",
        "from sklearn.metrics import classification_report\n",
        "from PIL import Image\n",
        "from matplotlib import pyplot as plt\n",
        "from imutils import paths\n",
        "import numpy as np\n",
        "import os"
      ],
      "metadata": {
        "id": "4S4kdaE0Xwph"
      },
      "execution_count": 16,
      "outputs": []
    },
    {
      "cell_type": "code",
      "source": [
        "print(\"[INFO] loading images...\")\n",
        "imagePaths = paths.list_images(\"Dataset\")\n",
        "data = []\n",
        "labels = []"
      ],
      "metadata": {
        "colab": {
          "base_uri": "https://localhost:8080/"
        },
        "id": "E_uXJhxIXzBF",
        "outputId": "9d70c4e8-0d57-474d-d148-765ca24e454d"
      },
      "execution_count": 17,
      "outputs": [
        {
          "output_type": "stream",
          "name": "stdout",
          "text": [
            "[INFO] loading images...\n"
          ]
        }
      ]
    },
    {
      "cell_type": "code",
      "source": [
        "for imagePaths in imagePaths:\n",
        "    a = Image.open(imagePaths)\n",
        "    image = np.array(a.resize((100,100))) / 255.0\n",
        "    data.append(image)\n",
        "    \n",
        "    label = imagePaths.split(os.path.sep) [-2]\n",
        "    labels.append(label)"
      ],
      "metadata": {
        "id": "9pSnTp4IX03s"
      },
      "execution_count": 18,
      "outputs": []
    },
    {
      "cell_type": "code",
      "source": [
        "from sklearn.preprocessing import LabelBinarizer\n",
        "import numpy as np\n",
        "\n",
        "class MyLabelBinarizer(LabelBinarizer):\n",
        "    def transform(self, label):\n",
        "      nilaiy = super().transform(label)\n",
        "      if self.y_type_== 'binary':\n",
        "        return np.hstack((nilaiy, 1-nilaiy))\n",
        "      else:\n",
        "        return nilaiy\n",
        "    def inverse_transform(self, nilaiy, threshold=None):\n",
        "      if self.y_type_ == 'binary':\n",
        "          return super().inverse_transform(nilaiy[:, 0], threshold)\n",
        "      else:\n",
        "          return super().inverse_transform(nilaiy, threshold)\n",
        "\n",
        "      \n",
        "\n",
        "lb = MyLabelBinarizer()\n",
        "labels = lb.fit_transform(labels)\n",
        "print(labels)"
      ],
      "metadata": {
        "colab": {
          "base_uri": "https://localhost:8080/"
        },
        "id": "FXFJ8tE8X8Wz",
        "outputId": "a607ef31-fa33-498a-e437-4fd8c666a589"
      },
      "execution_count": 19,
      "outputs": [
        {
          "output_type": "stream",
          "name": "stdout",
          "text": [
            "[[1 0]\n",
            " [1 0]\n",
            " [1 0]\n",
            " ...\n",
            " [0 1]\n",
            " [0 1]\n",
            " [0 1]]\n"
          ]
        }
      ]
    },
    {
      "cell_type": "code",
      "source": [
        "(trainX,testX, trainY, testY) = train_test_split(np.array(data),np.array(labels), test_size=0.25, random_state=42)\n",
        "print(trainX.shape)\n",
        "print(testX.shape)"
      ],
      "metadata": {
        "colab": {
          "base_uri": "https://localhost:8080/"
        },
        "id": "ZRWpGdFAYbk_",
        "outputId": "76ac56b9-08f5-4eff-ed34-69315826a4eb"
      },
      "execution_count": 20,
      "outputs": [
        {
          "output_type": "stream",
          "name": "stdout",
          "text": [
            "(750, 100, 100)\n",
            "(250, 100, 100)\n"
          ]
        }
      ]
    },
    {
      "cell_type": "code",
      "source": [
        "def vgg16(num_classes):\n",
        "\n",
        "    vgg16 = Sequential()\n",
        "\n",
        "    vgg16.add(Convolution2D(input_shape=(100,100,1),filters=64,kernel_size=(3,3),padding=\"same\"))\n",
        "    vgg16.add(Activation('relu'))\n",
        "    vgg16.add(BatchNormalization())\n",
        "    #layer1 32*32*64\n",
        "    vgg16.add(Convolution2D(filters=64,kernel_size=(3,3),padding=\"same\"))\n",
        "    vgg16.add(Activation('relu'))\n",
        "    vgg16.add(MaxPooling2D(pool_size=(2, 2),strides=(2,2)))\n",
        "    vgg16.add(BatchNormalization())\n",
        "    #layer2 16*16*64\n",
        "    vgg16.add(Convolution2D(filters=128, kernel_size=(3,3), padding=\"same\"))\n",
        "    vgg16.add(Activation('relu'))\n",
        "    vgg16.add(BatchNormalization())\n",
        "    #layer3 16*16*128\n",
        "    vgg16.add(Convolution2D(filters=128, kernel_size=(3,3), padding=\"same\",))\n",
        "    vgg16.add(Activation('relu'))\n",
        "    vgg16.add(MaxPooling2D(pool_size=(2,2),strides=(2,2)))\n",
        "    vgg16.add(BatchNormalization())\n",
        "    #layer4 8*8*128\n",
        "    vgg16.add(Convolution2D(filters=256, kernel_size=(3,3), padding=\"same\"))\n",
        "    vgg16.add(Activation('relu'))\n",
        "    vgg16.add(BatchNormalization())\n",
        "    #layer5 8*8*256\n",
        "    vgg16.add(Convolution2D(filters=256, kernel_size=(3,3), padding=\"same\"))\n",
        "    vgg16.add(Activation('relu'))\n",
        "    vgg16.add(BatchNormalization())\n",
        "    #layer6 8*8*256\n",
        "    vgg16.add(Convolution2D(filters=256, kernel_size=(3,3), padding=\"same\"))\n",
        "    vgg16.add(Activation('relu'))\n",
        "    vgg16.add(MaxPooling2D(pool_size=(2,2),strides=(2,2)))\n",
        "    vgg16.add(BatchNormalization())\n",
        "    #layer7 4*4*256\n",
        "    vgg16.add(Convolution2D(filters=512, kernel_size=(3,3), padding=\"same\"))\n",
        "    vgg16.add(Activation('relu'))\n",
        "    vgg16.add(BatchNormalization())\n",
        "    #layer8 4*4*512\n",
        "    vgg16.add(Convolution2D(filters=512, kernel_size=(3,3), padding=\"same\"))\n",
        "    vgg16.add(Activation('relu'))\n",
        "    vgg16.add(BatchNormalization())\n",
        "    #layer9 4*4*512\n",
        "    vgg16.add(Convolution2D(filters=512, kernel_size=(3,3), padding=\"same\"))\n",
        "    vgg16.add(Activation('relu'))\n",
        "    vgg16.add(MaxPooling2D(pool_size=(2,2),strides=(2,2)))\n",
        "    vgg16.add(BatchNormalization())\n",
        "    #layer10 2*2*512\n",
        "    vgg16.add(Convolution2D(filters=512, kernel_size=(3,3), padding=\"same\"))\n",
        "    vgg16.add(Activation('relu'))\n",
        "    vgg16.add(BatchNormalization())\n",
        "    #layer11 2*2*512\n",
        "    vgg16.add(Convolution2D(filters=512, kernel_size=(3,3), padding=\"same\"))  \n",
        "    vgg16.add(Activation('relu')) \n",
        "    vgg16.add(BatchNormalization())       \n",
        "    #layer12 2*2*512\n",
        "    vgg16.add(Convolution2D(filters=512, kernel_size=(3,3), padding=\"same\"))\n",
        "    vgg16.add(Activation('relu'))\n",
        "    vgg16.add(MaxPooling2D(pool_size=(2,2),strides=(2,2)))\n",
        "    vgg16.add(BatchNormalization())\n",
        "    #layer13 1*1*512\n",
        "    vgg16.add(Flatten())\n",
        "    vgg16.add(Dense(units=4096))\n",
        "    vgg16.add(Activation('relu')) \n",
        "    vgg16.add(BatchNormalization())\n",
        "    vgg16.add(Dropout(0.5))\n",
        "    #layer14 4096\n",
        "    vgg16.add(Dense(units=4096))\n",
        "    vgg16.add(Activation('relu')) \n",
        "    vgg16.add(BatchNormalization())\n",
        "    vgg16.add(Dropout(0.5))\n",
        "    #layer16 4096\n",
        "    vgg16.add(Dense(units=1000))\n",
        "    vgg16.add(Activation('relu'))\n",
        "    vgg16.add(BatchNormalization())\n",
        "    vgg16.add(Dropout(0.5)) \n",
        "    #layer16 1000\n",
        "    vgg16.add(Dense(2, activation=\"sigmoid\"))\n",
        "\n",
        "    return vgg16"
      ],
      "metadata": {
        "id": "r02kKgNmYdVi"
      },
      "execution_count": 21,
      "outputs": []
    },
    {
      "cell_type": "code",
      "source": [
        "num_classes=2\n",
        "vgg16=vgg16(num_classes)\n",
        "vgg16.summary()"
      ],
      "metadata": {
        "colab": {
          "base_uri": "https://localhost:8080/"
        },
        "id": "puX-_jFDYfzx",
        "outputId": "03be38f7-42d5-4c24-a834-837b8518c726"
      },
      "execution_count": 22,
      "outputs": [
        {
          "output_type": "stream",
          "name": "stdout",
          "text": [
            "Model: \"sequential_1\"\n",
            "_________________________________________________________________\n",
            " Layer (type)                Output Shape              Param #   \n",
            "=================================================================\n",
            " conv2d_13 (Conv2D)          (None, 100, 100, 64)      640       \n",
            "                                                                 \n",
            " activation_16 (Activation)  (None, 100, 100, 64)      0         \n",
            "                                                                 \n",
            " batch_normalization_16 (Bat  (None, 100, 100, 64)     256       \n",
            " chNormalization)                                                \n",
            "                                                                 \n",
            " conv2d_14 (Conv2D)          (None, 100, 100, 64)      36928     \n",
            "                                                                 \n",
            " activation_17 (Activation)  (None, 100, 100, 64)      0         \n",
            "                                                                 \n",
            " max_pooling2d_5 (MaxPooling  (None, 50, 50, 64)       0         \n",
            " 2D)                                                             \n",
            "                                                                 \n",
            " batch_normalization_17 (Bat  (None, 50, 50, 64)       256       \n",
            " chNormalization)                                                \n",
            "                                                                 \n",
            " conv2d_15 (Conv2D)          (None, 50, 50, 128)       73856     \n",
            "                                                                 \n",
            " activation_18 (Activation)  (None, 50, 50, 128)       0         \n",
            "                                                                 \n",
            " batch_normalization_18 (Bat  (None, 50, 50, 128)      512       \n",
            " chNormalization)                                                \n",
            "                                                                 \n",
            " conv2d_16 (Conv2D)          (None, 50, 50, 128)       147584    \n",
            "                                                                 \n",
            " activation_19 (Activation)  (None, 50, 50, 128)       0         \n",
            "                                                                 \n",
            " max_pooling2d_6 (MaxPooling  (None, 25, 25, 128)      0         \n",
            " 2D)                                                             \n",
            "                                                                 \n",
            " batch_normalization_19 (Bat  (None, 25, 25, 128)      512       \n",
            " chNormalization)                                                \n",
            "                                                                 \n",
            " conv2d_17 (Conv2D)          (None, 25, 25, 256)       295168    \n",
            "                                                                 \n",
            " activation_20 (Activation)  (None, 25, 25, 256)       0         \n",
            "                                                                 \n",
            " batch_normalization_20 (Bat  (None, 25, 25, 256)      1024      \n",
            " chNormalization)                                                \n",
            "                                                                 \n",
            " conv2d_18 (Conv2D)          (None, 25, 25, 256)       590080    \n",
            "                                                                 \n",
            " activation_21 (Activation)  (None, 25, 25, 256)       0         \n",
            "                                                                 \n",
            " batch_normalization_21 (Bat  (None, 25, 25, 256)      1024      \n",
            " chNormalization)                                                \n",
            "                                                                 \n",
            " conv2d_19 (Conv2D)          (None, 25, 25, 256)       590080    \n",
            "                                                                 \n",
            " activation_22 (Activation)  (None, 25, 25, 256)       0         \n",
            "                                                                 \n",
            " max_pooling2d_7 (MaxPooling  (None, 12, 12, 256)      0         \n",
            " 2D)                                                             \n",
            "                                                                 \n",
            " batch_normalization_22 (Bat  (None, 12, 12, 256)      1024      \n",
            " chNormalization)                                                \n",
            "                                                                 \n",
            " conv2d_20 (Conv2D)          (None, 12, 12, 512)       1180160   \n",
            "                                                                 \n",
            " activation_23 (Activation)  (None, 12, 12, 512)       0         \n",
            "                                                                 \n",
            " batch_normalization_23 (Bat  (None, 12, 12, 512)      2048      \n",
            " chNormalization)                                                \n",
            "                                                                 \n",
            " conv2d_21 (Conv2D)          (None, 12, 12, 512)       2359808   \n",
            "                                                                 \n",
            " activation_24 (Activation)  (None, 12, 12, 512)       0         \n",
            "                                                                 \n",
            " batch_normalization_24 (Bat  (None, 12, 12, 512)      2048      \n",
            " chNormalization)                                                \n",
            "                                                                 \n",
            " conv2d_22 (Conv2D)          (None, 12, 12, 512)       2359808   \n",
            "                                                                 \n",
            " activation_25 (Activation)  (None, 12, 12, 512)       0         \n",
            "                                                                 \n",
            " max_pooling2d_8 (MaxPooling  (None, 6, 6, 512)        0         \n",
            " 2D)                                                             \n",
            "                                                                 \n",
            " batch_normalization_25 (Bat  (None, 6, 6, 512)        2048      \n",
            " chNormalization)                                                \n",
            "                                                                 \n",
            " conv2d_23 (Conv2D)          (None, 6, 6, 512)         2359808   \n",
            "                                                                 \n",
            " activation_26 (Activation)  (None, 6, 6, 512)         0         \n",
            "                                                                 \n",
            " batch_normalization_26 (Bat  (None, 6, 6, 512)        2048      \n",
            " chNormalization)                                                \n",
            "                                                                 \n",
            " conv2d_24 (Conv2D)          (None, 6, 6, 512)         2359808   \n",
            "                                                                 \n",
            " activation_27 (Activation)  (None, 6, 6, 512)         0         \n",
            "                                                                 \n",
            " batch_normalization_27 (Bat  (None, 6, 6, 512)        2048      \n",
            " chNormalization)                                                \n",
            "                                                                 \n",
            " conv2d_25 (Conv2D)          (None, 6, 6, 512)         2359808   \n",
            "                                                                 \n",
            " activation_28 (Activation)  (None, 6, 6, 512)         0         \n",
            "                                                                 \n",
            " max_pooling2d_9 (MaxPooling  (None, 3, 3, 512)        0         \n",
            " 2D)                                                             \n",
            "                                                                 \n",
            " batch_normalization_28 (Bat  (None, 3, 3, 512)        2048      \n",
            " chNormalization)                                                \n",
            "                                                                 \n",
            " flatten_1 (Flatten)         (None, 4608)              0         \n",
            "                                                                 \n",
            " dense_4 (Dense)             (None, 4096)              18878464  \n",
            "                                                                 \n",
            " activation_29 (Activation)  (None, 4096)              0         \n",
            "                                                                 \n",
            " batch_normalization_29 (Bat  (None, 4096)             16384     \n",
            " chNormalization)                                                \n",
            "                                                                 \n",
            " dropout_3 (Dropout)         (None, 4096)              0         \n",
            "                                                                 \n",
            " dense_5 (Dense)             (None, 4096)              16781312  \n",
            "                                                                 \n",
            " activation_30 (Activation)  (None, 4096)              0         \n",
            "                                                                 \n",
            " batch_normalization_30 (Bat  (None, 4096)             16384     \n",
            " chNormalization)                                                \n",
            "                                                                 \n",
            " dropout_4 (Dropout)         (None, 4096)              0         \n",
            "                                                                 \n",
            " dense_6 (Dense)             (None, 1000)              4097000   \n",
            "                                                                 \n",
            " activation_31 (Activation)  (None, 1000)              0         \n",
            "                                                                 \n",
            " batch_normalization_31 (Bat  (None, 1000)             4000      \n",
            " chNormalization)                                                \n",
            "                                                                 \n",
            " dropout_5 (Dropout)         (None, 1000)              0         \n",
            "                                                                 \n",
            " dense_7 (Dense)             (None, 2)                 2002      \n",
            "                                                                 \n",
            "=================================================================\n",
            "Total params: 54,525,978\n",
            "Trainable params: 54,499,146\n",
            "Non-trainable params: 26,832\n",
            "_________________________________________________________________\n"
          ]
        }
      ]
    },
    {
      "cell_type": "code",
      "source": [
        "#setting hyperparameter, menggunakan Adam\n",
        "opt = RMSprop(lr=0.0001)\n",
        "vgg16.compile(loss='binary_crossentropy', optimizer=opt, metrics=['accuracy'])\n",
        "vgg16.summary()"
      ],
      "metadata": {
        "colab": {
          "base_uri": "https://localhost:8080/"
        },
        "id": "GrtoClUOYiGJ",
        "outputId": "f4f7a5b1-91c9-451d-81c1-515090ddb4cb"
      },
      "execution_count": 23,
      "outputs": [
        {
          "output_type": "stream",
          "name": "stdout",
          "text": [
            "Model: \"sequential_1\"\n",
            "_________________________________________________________________\n",
            " Layer (type)                Output Shape              Param #   \n",
            "=================================================================\n",
            " conv2d_13 (Conv2D)          (None, 100, 100, 64)      640       \n",
            "                                                                 \n",
            " activation_16 (Activation)  (None, 100, 100, 64)      0         \n",
            "                                                                 \n",
            " batch_normalization_16 (Bat  (None, 100, 100, 64)     256       \n",
            " chNormalization)                                                \n",
            "                                                                 \n",
            " conv2d_14 (Conv2D)          (None, 100, 100, 64)      36928     \n",
            "                                                                 \n",
            " activation_17 (Activation)  (None, 100, 100, 64)      0         \n",
            "                                                                 \n",
            " max_pooling2d_5 (MaxPooling  (None, 50, 50, 64)       0         \n",
            " 2D)                                                             \n",
            "                                                                 \n",
            " batch_normalization_17 (Bat  (None, 50, 50, 64)       256       \n",
            " chNormalization)                                                \n",
            "                                                                 \n",
            " conv2d_15 (Conv2D)          (None, 50, 50, 128)       73856     \n",
            "                                                                 \n",
            " activation_18 (Activation)  (None, 50, 50, 128)       0         \n",
            "                                                                 \n",
            " batch_normalization_18 (Bat  (None, 50, 50, 128)      512       \n",
            " chNormalization)                                                \n",
            "                                                                 \n",
            " conv2d_16 (Conv2D)          (None, 50, 50, 128)       147584    \n",
            "                                                                 \n",
            " activation_19 (Activation)  (None, 50, 50, 128)       0         \n",
            "                                                                 \n",
            " max_pooling2d_6 (MaxPooling  (None, 25, 25, 128)      0         \n",
            " 2D)                                                             \n",
            "                                                                 \n",
            " batch_normalization_19 (Bat  (None, 25, 25, 128)      512       \n",
            " chNormalization)                                                \n",
            "                                                                 \n",
            " conv2d_17 (Conv2D)          (None, 25, 25, 256)       295168    \n",
            "                                                                 \n",
            " activation_20 (Activation)  (None, 25, 25, 256)       0         \n",
            "                                                                 \n",
            " batch_normalization_20 (Bat  (None, 25, 25, 256)      1024      \n",
            " chNormalization)                                                \n",
            "                                                                 \n",
            " conv2d_18 (Conv2D)          (None, 25, 25, 256)       590080    \n",
            "                                                                 \n",
            " activation_21 (Activation)  (None, 25, 25, 256)       0         \n",
            "                                                                 \n",
            " batch_normalization_21 (Bat  (None, 25, 25, 256)      1024      \n",
            " chNormalization)                                                \n",
            "                                                                 \n",
            " conv2d_19 (Conv2D)          (None, 25, 25, 256)       590080    \n",
            "                                                                 \n",
            " activation_22 (Activation)  (None, 25, 25, 256)       0         \n",
            "                                                                 \n",
            " max_pooling2d_7 (MaxPooling  (None, 12, 12, 256)      0         \n",
            " 2D)                                                             \n",
            "                                                                 \n",
            " batch_normalization_22 (Bat  (None, 12, 12, 256)      1024      \n",
            " chNormalization)                                                \n"
          ]
        },
        {
          "output_type": "stream",
          "name": "stderr",
          "text": [
            "/usr/local/lib/python3.7/dist-packages/keras/optimizer_v2/rmsprop.py:130: UserWarning: The `lr` argument is deprecated, use `learning_rate` instead.\n",
            "  super(RMSprop, self).__init__(name, **kwargs)\n"
          ]
        },
        {
          "output_type": "stream",
          "name": "stdout",
          "text": [
            "                                                                 \n",
            " conv2d_20 (Conv2D)          (None, 12, 12, 512)       1180160   \n",
            "                                                                 \n",
            " activation_23 (Activation)  (None, 12, 12, 512)       0         \n",
            "                                                                 \n",
            " batch_normalization_23 (Bat  (None, 12, 12, 512)      2048      \n",
            " chNormalization)                                                \n",
            "                                                                 \n",
            " conv2d_21 (Conv2D)          (None, 12, 12, 512)       2359808   \n",
            "                                                                 \n",
            " activation_24 (Activation)  (None, 12, 12, 512)       0         \n",
            "                                                                 \n",
            " batch_normalization_24 (Bat  (None, 12, 12, 512)      2048      \n",
            " chNormalization)                                                \n",
            "                                                                 \n",
            " conv2d_22 (Conv2D)          (None, 12, 12, 512)       2359808   \n",
            "                                                                 \n",
            " activation_25 (Activation)  (None, 12, 12, 512)       0         \n",
            "                                                                 \n",
            " max_pooling2d_8 (MaxPooling  (None, 6, 6, 512)        0         \n",
            " 2D)                                                             \n",
            "                                                                 \n",
            " batch_normalization_25 (Bat  (None, 6, 6, 512)        2048      \n",
            " chNormalization)                                                \n",
            "                                                                 \n",
            " conv2d_23 (Conv2D)          (None, 6, 6, 512)         2359808   \n",
            "                                                                 \n",
            " activation_26 (Activation)  (None, 6, 6, 512)         0         \n",
            "                                                                 \n",
            " batch_normalization_26 (Bat  (None, 6, 6, 512)        2048      \n",
            " chNormalization)                                                \n",
            "                                                                 \n",
            " conv2d_24 (Conv2D)          (None, 6, 6, 512)         2359808   \n",
            "                                                                 \n",
            " activation_27 (Activation)  (None, 6, 6, 512)         0         \n",
            "                                                                 \n",
            " batch_normalization_27 (Bat  (None, 6, 6, 512)        2048      \n",
            " chNormalization)                                                \n",
            "                                                                 \n",
            " conv2d_25 (Conv2D)          (None, 6, 6, 512)         2359808   \n",
            "                                                                 \n",
            " activation_28 (Activation)  (None, 6, 6, 512)         0         \n",
            "                                                                 \n",
            " max_pooling2d_9 (MaxPooling  (None, 3, 3, 512)        0         \n",
            " 2D)                                                             \n",
            "                                                                 \n",
            " batch_normalization_28 (Bat  (None, 3, 3, 512)        2048      \n",
            " chNormalization)                                                \n",
            "                                                                 \n",
            " flatten_1 (Flatten)         (None, 4608)              0         \n",
            "                                                                 \n",
            " dense_4 (Dense)             (None, 4096)              18878464  \n",
            "                                                                 \n",
            " activation_29 (Activation)  (None, 4096)              0         \n",
            "                                                                 \n",
            " batch_normalization_29 (Bat  (None, 4096)             16384     \n",
            " chNormalization)                                                \n",
            "                                                                 \n",
            " dropout_3 (Dropout)         (None, 4096)              0         \n",
            "                                                                 \n",
            " dense_5 (Dense)             (None, 4096)              16781312  \n",
            "                                                                 \n",
            " activation_30 (Activation)  (None, 4096)              0         \n",
            "                                                                 \n",
            " batch_normalization_30 (Bat  (None, 4096)             16384     \n",
            " chNormalization)                                                \n",
            "                                                                 \n",
            " dropout_4 (Dropout)         (None, 4096)              0         \n",
            "                                                                 \n",
            " dense_6 (Dense)             (None, 1000)              4097000   \n",
            "                                                                 \n",
            " activation_31 (Activation)  (None, 1000)              0         \n",
            "                                                                 \n",
            " batch_normalization_31 (Bat  (None, 1000)             4000      \n",
            " chNormalization)                                                \n",
            "                                                                 \n",
            " dropout_5 (Dropout)         (None, 1000)              0         \n",
            "                                                                 \n",
            " dense_7 (Dense)             (None, 2)                 2002      \n",
            "                                                                 \n",
            "=================================================================\n",
            "Total params: 54,525,978\n",
            "Trainable params: 54,499,146\n",
            "Non-trainable params: 26,832\n",
            "_________________________________________________________________\n"
          ]
        }
      ]
    },
    {
      "cell_type": "code",
      "source": [
        "#training data\n",
        "H = vgg16.fit(trainX, trainY, validation_data=(testX, testY), epochs=30, batch_size=16)"
      ],
      "metadata": {
        "colab": {
          "base_uri": "https://localhost:8080/"
        },
        "id": "ehAB-rDaYkaq",
        "outputId": "a822eaa7-81d7-423b-af46-9028f6a2f106"
      },
      "execution_count": 24,
      "outputs": [
        {
          "output_type": "stream",
          "name": "stdout",
          "text": [
            "Epoch 1/30\n",
            "47/47 [==============================] - 438s 9s/step - loss: 0.4199 - accuracy: 0.8640 - val_loss: 0.7852 - val_accuracy: 0.4880\n",
            "Epoch 2/30\n",
            "47/47 [==============================] - 415s 9s/step - loss: 0.2992 - accuracy: 0.9160 - val_loss: 1.5269 - val_accuracy: 0.4880\n",
            "Epoch 3/30\n",
            "47/47 [==============================] - 417s 9s/step - loss: 0.2576 - accuracy: 0.9307 - val_loss: 3.9915 - val_accuracy: 0.4880\n",
            "Epoch 4/30\n",
            "47/47 [==============================] - 414s 9s/step - loss: 0.3324 - accuracy: 0.9173 - val_loss: 6.0817 - val_accuracy: 0.4880\n",
            "Epoch 5/30\n",
            "47/47 [==============================] - 427s 9s/step - loss: 0.2547 - accuracy: 0.9293 - val_loss: 7.0824 - val_accuracy: 0.4880\n",
            "Epoch 6/30\n",
            "47/47 [==============================] - 420s 9s/step - loss: 0.2877 - accuracy: 0.9200 - val_loss: 7.5348 - val_accuracy: 0.4880\n",
            "Epoch 7/30\n",
            "47/47 [==============================] - 413s 9s/step - loss: 0.1918 - accuracy: 0.9467 - val_loss: 8.9278 - val_accuracy: 0.4880\n",
            "Epoch 8/30\n",
            "47/47 [==============================] - 414s 9s/step - loss: 0.2008 - accuracy: 0.9480 - val_loss: 1.1311 - val_accuracy: 0.6120\n",
            "Epoch 9/30\n",
            "47/47 [==============================] - 404s 9s/step - loss: 0.2648 - accuracy: 0.9053 - val_loss: 6.9192 - val_accuracy: 0.4880\n",
            "Epoch 10/30\n",
            "47/47 [==============================] - 410s 9s/step - loss: 0.2624 - accuracy: 0.9253 - val_loss: 2.7535 - val_accuracy: 0.4880\n",
            "Epoch 11/30\n",
            "47/47 [==============================] - 404s 9s/step - loss: 0.2273 - accuracy: 0.9320 - val_loss: 6.1934 - val_accuracy: 0.4880\n",
            "Epoch 12/30\n",
            "47/47 [==============================] - 404s 9s/step - loss: 0.1918 - accuracy: 0.9373 - val_loss: 0.8920 - val_accuracy: 0.7880\n",
            "Epoch 13/30\n",
            "47/47 [==============================] - 414s 9s/step - loss: 0.1689 - accuracy: 0.9373 - val_loss: 4.6793 - val_accuracy: 0.5280\n",
            "Epoch 14/30\n",
            "47/47 [==============================] - 415s 9s/step - loss: 0.1408 - accuracy: 0.9520 - val_loss: 4.8525 - val_accuracy: 0.5360\n",
            "Epoch 15/30\n",
            "47/47 [==============================] - 416s 9s/step - loss: 0.1505 - accuracy: 0.9587 - val_loss: 0.2839 - val_accuracy: 0.9360\n",
            "Epoch 16/30\n",
            "47/47 [==============================] - 410s 9s/step - loss: 0.0962 - accuracy: 0.9747 - val_loss: 0.2651 - val_accuracy: 0.9400\n",
            "Epoch 17/30\n",
            "47/47 [==============================] - 402s 9s/step - loss: 0.1416 - accuracy: 0.9640 - val_loss: 0.1796 - val_accuracy: 0.9560\n",
            "Epoch 18/30\n",
            "47/47 [==============================] - 400s 9s/step - loss: 0.0717 - accuracy: 0.9853 - val_loss: 0.2027 - val_accuracy: 0.9560\n",
            "Epoch 19/30\n",
            "47/47 [==============================] - 400s 9s/step - loss: 0.1240 - accuracy: 0.9653 - val_loss: 0.2621 - val_accuracy: 0.9400\n",
            "Epoch 20/30\n",
            "47/47 [==============================] - 403s 9s/step - loss: 0.0616 - accuracy: 0.9813 - val_loss: 0.4259 - val_accuracy: 0.9160\n",
            "Epoch 21/30\n",
            "47/47 [==============================] - 397s 8s/step - loss: 0.1071 - accuracy: 0.9760 - val_loss: 0.2954 - val_accuracy: 0.9520\n",
            "Epoch 22/30\n",
            "47/47 [==============================] - 400s 9s/step - loss: 0.0621 - accuracy: 0.9853 - val_loss: 0.4758 - val_accuracy: 0.9160\n",
            "Epoch 23/30\n",
            "47/47 [==============================] - 403s 9s/step - loss: 0.1332 - accuracy: 0.9693 - val_loss: 0.4377 - val_accuracy: 0.8920\n",
            "Epoch 24/30\n",
            "47/47 [==============================] - 402s 9s/step - loss: 0.0710 - accuracy: 0.9773 - val_loss: 0.2580 - val_accuracy: 0.9440\n",
            "Epoch 25/30\n",
            "47/47 [==============================] - 405s 9s/step - loss: 0.0647 - accuracy: 0.9827 - val_loss: 0.3920 - val_accuracy: 0.9160\n",
            "Epoch 26/30\n",
            "47/47 [==============================] - 406s 9s/step - loss: 0.0566 - accuracy: 0.9853 - val_loss: 0.1459 - val_accuracy: 0.9760\n",
            "Epoch 27/30\n",
            "47/47 [==============================] - 411s 9s/step - loss: 0.0309 - accuracy: 0.9893 - val_loss: 0.0867 - val_accuracy: 0.9840\n",
            "Epoch 28/30\n",
            "47/47 [==============================] - 411s 9s/step - loss: 0.0501 - accuracy: 0.9840 - val_loss: 0.1347 - val_accuracy: 0.9720\n",
            "Epoch 29/30\n",
            "47/47 [==============================] - 413s 9s/step - loss: 0.0258 - accuracy: 0.9933 - val_loss: 0.2039 - val_accuracy: 0.9480\n",
            "Epoch 30/30\n",
            "47/47 [==============================] - 411s 9s/step - loss: 0.0373 - accuracy: 0.9893 - val_loss: 0.1470 - val_accuracy: 0.9760\n"
          ]
        }
      ]
    },
    {
      "cell_type": "code",
      "source": [
        "print(\"[INFO] evaluating network...\")\n",
        "predictions = vgg16.predict(testX, batch_size=16)\n",
        "pred=predictions.argmax(axis=1)\n",
        "testY_argm=testY.argmax(axis=1)"
      ],
      "metadata": {
        "colab": {
          "base_uri": "https://localhost:8080/"
        },
        "id": "TKkrmlZBSCB7",
        "outputId": "d40373c0-5398-451a-c25b-727a4e6b8bc4"
      },
      "execution_count": 25,
      "outputs": [
        {
          "output_type": "stream",
          "name": "stdout",
          "text": [
            "[INFO] evaluating network...\n"
          ]
        }
      ]
    },
    {
      "cell_type": "code",
      "source": [
        "print(classification_report(testY_argm,pred,target_names=lb.classes_))"
      ],
      "metadata": {
        "colab": {
          "base_uri": "https://localhost:8080/"
        },
        "id": "BT7lbL4VSbGX",
        "outputId": "08a8633d-3968-4af6-cd55-34ed4554f485"
      },
      "execution_count": 26,
      "outputs": [
        {
          "output_type": "stream",
          "name": "stdout",
          "text": [
            "              precision    recall  f1-score   support\n",
            "\n",
            "      Normal       0.98      0.97      0.98       122\n",
            "   Pneumonia       0.97      0.98      0.98       128\n",
            "\n",
            "    accuracy                           0.98       250\n",
            "   macro avg       0.98      0.98      0.98       250\n",
            "weighted avg       0.98      0.98      0.98       250\n",
            "\n"
          ]
        }
      ]
    },
    {
      "cell_type": "code",
      "source": [
        "test_score = vgg16.evaluate(testX, testY) \n",
        "print(\"Test Loss {:.4f}, accuracy {:.2f}%\".format(test_score[0], test_score[1] * 100))"
      ],
      "metadata": {
        "colab": {
          "base_uri": "https://localhost:8080/"
        },
        "id": "ebLv2WhRSgZk",
        "outputId": "7a8fbef9-1c78-450a-b050-c16468267ab8"
      },
      "execution_count": 27,
      "outputs": [
        {
          "output_type": "stream",
          "name": "stdout",
          "text": [
            "8/8 [==============================] - 30s 4s/step - loss: 0.1470 - accuracy: 0.9760\n",
            "Test Loss 0.1470, accuracy 97.60%\n"
          ]
        }
      ]
    },
    {
      "cell_type": "code",
      "source": [
        "from sklearn.metrics import confusion_matrix\n",
        "import itertools\n",
        "\n",
        "def plot_confusion_matrix(cm, classes, normalize=False, title='Confusion matrix', cmap='Blues'):\n",
        "  if normalize:\n",
        "     cm = cm.astype('float') / cm.sum(axis=1)[:, np.newaxis]\n",
        "     print(\"Normalized confusion matrix\")\n",
        "  else:\n",
        "     print('Confusion matrix, without normalization')\n",
        "  print(cm)\n",
        "  plt.imshow(cm, interpolation='nearest', cmap=cmap)\n",
        "  plt.title(title)\n",
        "  plt.colorbar()\n",
        "  tick_marks = np.arange(len(classes))\n",
        "  plt.xticks(tick_marks, classes, rotation=45)\n",
        "  plt.yticks(tick_marks, classes)\n",
        "  fmt = '.2f' if normalize else 'd'\n",
        "  thresh = cm.max() / 2.\n",
        "  for i, j in itertools.product(range(cm.shape[0]), range(cm.shape[1])):\n",
        "      plt.text(j, i, format(cm[i, j], fmt), horizontalalignment=\"center\", color=\"white\" if cm[i, j] > thresh else \"black\")\n",
        "  plt.ylabel('True label')\n",
        "  plt.xlabel('Predicted label')\n",
        "  plt.tight_layout()"
      ],
      "metadata": {
        "id": "gxVp1PMLSkHG"
      },
      "execution_count": 28,
      "outputs": []
    },
    {
      "cell_type": "code",
      "source": [
        "cnf_matrix = confusion_matrix(testY_argm, pred)\n",
        "np.set_printoptions(precision=2)\n",
        "\n",
        "# Plot non/normalized confusion matrix\n",
        "plt.figure()\n",
        "plot_confusion_matrix(cnf_matrix,\n",
        "classes=lb.classes_, normalize=True)\n",
        "plt.show()\n",
        "\n",
        "plt.figure()\n",
        "plot_confusion_matrix(cnf_matrix,\n",
        "classes=lb.classes_, normalize=False)\n",
        "plt.show()\n",
        "\n",
        "f, ax = plt.subplots()\n",
        "ax.plot([None] + H.history['accuracy'], 'o-')\n",
        "ax.plot([None] + H.history['val_accuracy'], 'x-')\n",
        "\n",
        "ax.legend(['Train acc', 'Validation acc'], loc = 0)\n",
        "ax.set_title('Training/Validation acc per Epoch')\n",
        "ax.set_xlabel('Epoch')\n",
        "ax.set_ylabel('acc')\n",
        "plt.grid(True)\n",
        "\n",
        "f, ax = plt.subplots()\n",
        "ax.plot([None] + H.history['loss'], 'o-')\n",
        "ax.plot([None] + H.history['val_loss'], 'x-')\n",
        "ax.legend(['Train Loss', 'Validation Loss'], loc = 0)\n",
        "ax.set_title('Training/Validation Loss per Epoch')\n",
        "ax.set_xlabel('Epoch')\n",
        "ax.set_ylabel('loss')\n",
        "plt.grid(True)"
      ],
      "metadata": {
        "colab": {
          "base_uri": "https://localhost:8080/",
          "height": 1000
        },
        "id": "RX2NHuo1Ss3X",
        "outputId": "84e88b5e-1fb5-40a8-af1d-feab74e0644f"
      },
      "execution_count": 29,
      "outputs": [
        {
          "output_type": "stream",
          "name": "stdout",
          "text": [
            "Normalized confusion matrix\n",
            "[[0.97 0.03]\n",
            " [0.02 0.98]]\n"
          ]
        },
        {
          "output_type": "display_data",
          "data": {
            "text/plain": [
              "<Figure size 432x288 with 2 Axes>"
            ],
            "image/png": "[encoded data removed]"
          },
          "metadata": {
            "needs_background": "light"
          }
        },
        {
          "output_type": "stream",
          "name": "stdout",
          "text": [
            "Confusion matrix, without normalization\n",
            "[[118   4]\n",
            " [  2 126]]\n"
          ]
        },
        {
          "output_type": "display_data",
          "data": {
            "text/plain": [
              "<Figure size 432x288 with 2 Axes>"
            ],
            "image/png": "[encoded data removed]"
          },
          "metadata": {
            "needs_background": "light"
          }
        },
        {
          "output_type": "display_data",
          "data": {
            "text/plain": [
              "<Figure size 432x288 with 1 Axes>"
            ],
            "image/png": "[encoded data removed]"
          },
          "metadata": {
            "needs_background": "light"
          }
        },
        {
          "output_type": "display_data",
          "data": {
            "text/plain": [
              "<Figure size 432x288 with 1 Axes>"
            ],
            "image/png": "[encoded data removed]"
          },
          "metadata": {
            "needs_background": "light"
          }
        }
      ]
    }
  ]
}