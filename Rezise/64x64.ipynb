{
  "cells": [
    {
      "cell_type": "markdown",
      "metadata": {
        "id": "view-in-github",
        "colab_type": "text"
      },
      "source": [
        "<a href=\"https://colab.research.google.com/github/nuramrina46/Skripsi2/blob/main/Rezise/64x64.ipynb\" target=\"_parent\"><img src=\"https://colab.research.google.com/assets/colab-badge.svg\" alt=\"Open In Colab\"/></a>"
      ]
    },
    {
      "cell_type": "code",
      "execution_count": 1,
      "metadata": {
        "colab": {
          "base_uri": "https://localhost:8080/"
        },
        "id": "Wna0zLEcso-6",
        "outputId": "493ddd8c-4ad0-4dbc-8f10-21126ff4c5ce"
      },
      "outputs": [
        {
          "output_type": "stream",
          "name": "stdout",
          "text": [
            "Mounted at /content/drive\n"
          ]
        }
      ],
      "source": [
        "from google.colab import drive\n",
        "drive.mount('/content/drive')"
      ]
    },
    {
      "cell_type": "code",
      "execution_count": 2,
      "metadata": {
        "colab": {
          "base_uri": "https://localhost:8080/"
        },
        "id": "50fhCbZPzlox",
        "outputId": "424e290b-6ab8-4b36-f509-4c26a09eabf6"
      },
      "outputs": [
        {
          "output_type": "stream",
          "name": "stdout",
          "text": [
            "/content/drive/My Drive/Colab Notebooks\n"
          ]
        }
      ],
      "source": [
        "cd /content/drive/My Drive/Colab Notebooks"
      ]
    },
    {
      "cell_type": "code",
      "execution_count": 3,
      "metadata": {
        "colab": {
          "base_uri": "https://localhost:8080/"
        },
        "id": "iOIsOUvTznGe",
        "outputId": "a886f486-46e1-44d0-ddce-62d97538aa6a"
      },
      "outputs": [
        {
          "output_type": "stream",
          "name": "stdout",
          "text": [
            "'1000 64.ipynb'              'pneumonia VGG 16 fiX.ipynb'\n",
            "'100 vgg 16.ipynb'           'Pneumonia VGG 19 2.ipynb'\n",
            "'2000 64.ipynb'              'pneumonia vgg 19.ipynb'\n",
            "'Augmentasi_DATA (1).ipynb'  'Salinan_dari_AugmentasiAll (1).ipynb'\n",
            " Augmentasi_DATA.ipynb        Salinan_dari_AugmentasiAll.ipynb\n",
            " \u001b[0m\u001b[01;34mDataset1\u001b[0m/                   'Salinan dari pneumonia vgg 19.ipynb'\n",
            " \u001b[01;34mPNEUAUG\u001b[0m/                     Untitled0.ipynb\n",
            " \u001b[01;34mpneudata\u001b[0m/\n"
          ]
        }
      ],
      "source": [
        "ls"
      ]
    },
    {
      "cell_type": "code",
      "execution_count": 4,
      "metadata": {
        "id": "OAVcnsiZtlJO"
      },
      "outputs": [],
      "source": [
        "from keras.models import Model\n",
        "from keras.models import load_model\n",
        "from keras.models import Sequential\n",
        "from keras.layers.convolutional import Convolution2D\n",
        "from keras.layers.convolutional import MaxPooling2D\n",
        "from keras.layers.convolutional import ZeroPadding2D\n",
        "from keras.layers.core import Activation\n",
        "from keras.layers.core import Flatten\n",
        "from keras.layers.core import Dense\n",
        "from keras.layers.core import Dropout\n",
        "from keras.layers import BatchNormalization\n",
        "from keras import regularizers\n",
        "from keras.preprocessing.image import ImageDataGenerator\n",
        "from tensorflow.keras.optimizers import RMSprop, Adam, SGD\n",
        "from sklearn.preprocessing import LabelBinarizer\n",
        "from sklearn.model_selection import train_test_split\n",
        "from sklearn.metrics import classification_report\n",
        "from PIL import Image\n",
        "from matplotlib import pyplot as plt\n",
        "from imutils import paths\n",
        "import numpy as np\n",
        "import os\n",
        "import cv2"
      ]
    },
    {
      "cell_type": "code",
      "execution_count": 5,
      "metadata": {
        "colab": {
          "base_uri": "https://localhost:8080/"
        },
        "id": "3R5gMMwFQJXR",
        "outputId": "715ef617-4c7b-4865-c0ed-26921fbd66eb"
      },
      "outputs": [
        {
          "output_type": "stream",
          "name": "stdout",
          "text": [
            "[INFO] loading images...\n"
          ]
        }
      ],
      "source": [
        "print(\"[INFO] loading images...\")\n",
        "imagePaths = paths.list_images(\"Dataset1\")\n",
        "data = []\n",
        "labels = []"
      ]
    },
    {
      "cell_type": "code",
      "execution_count": 6,
      "metadata": {
        "id": "1CJi8Vl1QMbm"
      },
      "outputs": [],
      "source": [
        "for imagePaths in imagePaths:\n",
        "    a = Image.open(imagePaths)\n",
        "    image = np.array(a.resize((64,64))) / 255.0\n",
        "    data.append(image)\n",
        "    \n",
        "    label = imagePaths.split(os.path.sep) [-2]\n",
        "    labels.append(label)"
      ]
    },
    {
      "cell_type": "code",
      "execution_count": 7,
      "metadata": {
        "colab": {
          "base_uri": "https://localhost:8080/"
        },
        "id": "8ScPugJLRSmE",
        "outputId": "40186b0a-0378-4606-deb2-9adc661ea701"
      },
      "outputs": [
        {
          "output_type": "stream",
          "name": "stdout",
          "text": [
            "(3166, 64, 64, 1)\n"
          ]
        }
      ],
      "source": [
        "temp = np.array(data)\n",
        "temp = np.expand_dims(temp, axis=3)\n",
        "print(temp.shape)"
      ]
    },
    {
      "cell_type": "code",
      "execution_count": 8,
      "metadata": {
        "colab": {
          "base_uri": "https://localhost:8080/"
        },
        "id": "uU2QZLHjSE-C",
        "outputId": "c487afc3-8726-4af6-9adb-afce5592e94a"
      },
      "outputs": [
        {
          "output_type": "stream",
          "name": "stdout",
          "text": [
            "[[0 1]\n",
            " [0 1]\n",
            " [0 1]\n",
            " ...\n",
            " [1 0]\n",
            " [1 0]\n",
            " [1 0]]\n"
          ]
        }
      ],
      "source": [
        " from sklearn.preprocessing import LabelBinarizer\n",
        "import numpy as np\n",
        "\n",
        "class MyLabelBinarizer(LabelBinarizer):\n",
        "    def transform(self, label):\n",
        "      nilaiy = super().transform(label)\n",
        "      if self.y_type_== 'binary':\n",
        "        return np.hstack((nilaiy, 1-nilaiy))\n",
        "      else:\n",
        "        return nilaiy\n",
        "    def inverse_transform(self, nilaiy, threshold=None):\n",
        "      if self.y_type_ == 'binary':\n",
        "          return super().inverse_transform(nilaiy[:, 0], threshold)\n",
        "      else:\n",
        "          return super().inverse_transform(nilaiy, threshold)\n",
        "\n",
        "lb = MyLabelBinarizer()\n",
        "labels = lb.fit_transform(labels)\n",
        "print(labels)"
      ]
    },
    {
      "cell_type": "code",
      "execution_count": 9,
      "metadata": {
        "colab": {
          "base_uri": "https://localhost:8080/"
        },
        "id": "EEyTHVkD3ENl",
        "outputId": "952e2d80-f3e8-43e6-d854-5c2778a3d94a"
      },
      "outputs": [
        {
          "output_type": "stream",
          "name": "stdout",
          "text": [
            "(2532, 64, 64)\n",
            "(634, 64, 64)\n"
          ]
        }
      ],
      "source": [
        "(trainX, testX, trainY, testY) = train_test_split(np.array(data), np.array(labels), test_size=0.20)\n",
        "print(trainX.shape)\n",
        "print(testX.shape)"
      ]
    },
    {
      "cell_type": "code",
      "execution_count": 10,
      "metadata": {
        "id": "Mgd9WqsSecaF"
      },
      "outputs": [],
      "source": [
        "def vgg19(num_classes):\n",
        "\n",
        "    vgg19 = Sequential()\n",
        "\n",
        "    #BLOCK1\n",
        "    #layer1 32*32*64\n",
        "    vgg19.add(Convolution2D(input_shape=(64,64,1),filters=64,kernel_size=(3,3),padding=\"same\"))\n",
        "    vgg19.add(Activation('relu'))\n",
        "    vgg19.add(BatchNormalization())\n",
        "    #layer2 16*16*64\n",
        "    vgg19.add(Convolution2D(filters=64,kernel_size=(3,3),padding=\"same\"))\n",
        "    vgg19.add(Activation('relu'))\n",
        "    vgg19.add(MaxPooling2D(pool_size=(2, 2),strides=(2,2)))\n",
        "    vgg19.add(BatchNormalization())\n",
        "\n",
        "    #BLOCK2\n",
        "    #layer3 16*16*128\n",
        "    vgg19.add(Convolution2D(filters=128, kernel_size=(3,3), padding=\"same\"))\n",
        "    vgg19.add(Activation('relu'))\n",
        "    vgg19.add(BatchNormalization())\n",
        "    #layer4 8*8*128\n",
        "    vgg19.add(Convolution2D(filters=128, kernel_size=(3,3), padding=\"same\",))\n",
        "    vgg19.add(Activation('relu'))\n",
        "    vgg19.add(MaxPooling2D(pool_size=(2,2),strides=(2,2)))\n",
        "    vgg19.add(BatchNormalization())\n",
        "\n",
        "    #BLOCK3\n",
        "    #layer5 8*8*256\n",
        "    vgg19.add(Convolution2D(filters=256, kernel_size=(3,3), padding=\"same\"))\n",
        "    vgg19.add(Activation('relu'))\n",
        "    vgg19.add(BatchNormalization())\n",
        "    #layer6 8*8*256\n",
        "    vgg19.add(Convolution2D(filters=256, kernel_size=(3,3), padding=\"same\"))\n",
        "    vgg19.add(Activation('relu'))\n",
        "    vgg19.add(BatchNormalization())\n",
        "    #layer7 8*8*256\n",
        "    vgg19.add(Convolution2D(filters=256, kernel_size=(3,3), padding=\"same\"))\n",
        "    vgg19.add(Activation('relu'))\n",
        "    vgg19.add(BatchNormalization())\n",
        "    #layer8 4*4*256\n",
        "    vgg19.add(Convolution2D(filters=256, kernel_size=(3,3), padding=\"same\"))\n",
        "    vgg19.add(Activation('relu'))\n",
        "    vgg19.add(MaxPooling2D(pool_size=(2,2),strides=(2,2)))\n",
        "    vgg19.add(BatchNormalization())\n",
        "\n",
        "    #BLOCK4\n",
        "    #layer8 4*4*512\n",
        "    vgg19.add(Convolution2D(filters=512, kernel_size=(3,3), padding=\"same\"))\n",
        "    vgg19.add(Activation('relu'))\n",
        "    vgg19.add(BatchNormalization())\n",
        "    #layer9 4*4*512\n",
        "    vgg19.add(Convolution2D(filters=512, kernel_size=(3,3), padding=\"same\"))\n",
        "    vgg19.add(Activation('relu'))\n",
        "    vgg19.add(BatchNormalization())\n",
        "    #layer10 4*4*512\n",
        "    vgg19.add(Convolution2D(filters=512, kernel_size=(3,3), padding=\"same\"))\n",
        "    vgg19.add(Activation('relu'))\n",
        "    vgg19.add(BatchNormalization())\n",
        "    #layer11 2*2*512\n",
        "    vgg19.add(Convolution2D(filters=512, kernel_size=(3,3), padding=\"same\"))\n",
        "    vgg19.add(Activation('relu'))\n",
        "    vgg19.add(MaxPooling2D(pool_size=(2,2),strides=(2,2)))\n",
        "    vgg19.add(BatchNormalization())\n",
        "\n",
        "    #BLOCK5\n",
        "    #layer11 2*2*512\n",
        "    vgg19.add(Convolution2D(filters=512, kernel_size=(3,3), padding=\"same\"))\n",
        "    vgg19.add(Activation('relu'))\n",
        "    vgg19.add(BatchNormalization())\n",
        "    #layer12 2*2*512\n",
        "    vgg19.add(Convolution2D(filters=512, kernel_size=(3,3), padding=\"same\"))  \n",
        "    vgg19.add(Activation('relu')) \n",
        "    vgg19.add(BatchNormalization())    \n",
        "    #layer13 2*2*512\n",
        "    vgg19.add(Convolution2D(filters=512, kernel_size=(3,3), padding=\"same\"))  \n",
        "    vgg19.add(Activation('relu')) \n",
        "    vgg19.add(BatchNormalization())    \n",
        "    #layer13 1*1*512\n",
        "    vgg19.add(Convolution2D(filters=512, kernel_size=(3,3), padding=\"same\"))\n",
        "    vgg19.add(Activation('relu'))\n",
        "    vgg19.add(MaxPooling2D(pool_size=(2,2),strides=(2,2)))\n",
        "    vgg19.add(BatchNormalization())\n",
        "\n",
        "    # seventh block (classifier)\n",
        "    #layer14 4096\n",
        "    vgg19.add(Flatten())\n",
        "    vgg19.add(Dense(units=4096))\n",
        "    vgg19.add(Activation('relu')) \n",
        "    vgg19.add(BatchNormalization())\n",
        "    vgg19.add(Dropout(0.5))\n",
        "    #layer15 4096\n",
        "    vgg19.add(Dense(units=4096))\n",
        "    vgg19.add(Activation('relu')) \n",
        "    vgg19.add(BatchNormalization())\n",
        "    vgg19.add(Dropout(0.5))\n",
        "    #layer16 1000\n",
        "    vgg19.add(Dense(units=1000))\n",
        "    vgg19.add(Activation('relu'))\n",
        "    vgg19.add(BatchNormalization())\n",
        "    vgg19.add(Dropout(0.5)) \n",
        "\n",
        "    vgg19.add(Dense(2, activation=\"softmax\"))\n",
        "\n",
        "    return vgg19"
      ]
    },
    {
      "cell_type": "code",
      "execution_count": 11,
      "metadata": {
        "colab": {
          "base_uri": "https://localhost:8080/"
        },
        "id": "pPSlHYE8cD_c",
        "outputId": "d6488afe-35fa-4fbd-978b-3823f346cb5f"
      },
      "outputs": [
        {
          "output_type": "stream",
          "name": "stdout",
          "text": [
            "Model: \"sequential\"\n",
            "_________________________________________________________________\n",
            " Layer (type)                Output Shape              Param #   \n",
            "=================================================================\n",
            " conv2d (Conv2D)             (None, 64, 64, 64)        640       \n",
            "                                                                 \n",
            " activation (Activation)     (None, 64, 64, 64)        0         \n",
            "                                                                 \n",
            " batch_normalization (BatchN  (None, 64, 64, 64)       256       \n",
            " ormalization)                                                   \n",
            "                                                                 \n",
            " conv2d_1 (Conv2D)           (None, 64, 64, 64)        36928     \n",
            "                                                                 \n",
            " activation_1 (Activation)   (None, 64, 64, 64)        0         \n",
            "                                                                 \n",
            " max_pooling2d (MaxPooling2D  (None, 32, 32, 64)       0         \n",
            " )                                                               \n",
            "                                                                 \n",
            " batch_normalization_1 (Batc  (None, 32, 32, 64)       256       \n",
            " hNormalization)                                                 \n",
            "                                                                 \n",
            " conv2d_2 (Conv2D)           (None, 32, 32, 128)       73856     \n",
            "                                                                 \n",
            " activation_2 (Activation)   (None, 32, 32, 128)       0         \n",
            "                                                                 \n",
            " batch_normalization_2 (Batc  (None, 32, 32, 128)      512       \n",
            " hNormalization)                                                 \n",
            "                                                                 \n",
            " conv2d_3 (Conv2D)           (None, 32, 32, 128)       147584    \n",
            "                                                                 \n",
            " activation_3 (Activation)   (None, 32, 32, 128)       0         \n",
            "                                                                 \n",
            " max_pooling2d_1 (MaxPooling  (None, 16, 16, 128)      0         \n",
            " 2D)                                                             \n",
            "                                                                 \n",
            " batch_normalization_3 (Batc  (None, 16, 16, 128)      512       \n",
            " hNormalization)                                                 \n",
            "                                                                 \n",
            " conv2d_4 (Conv2D)           (None, 16, 16, 256)       295168    \n",
            "                                                                 \n",
            " activation_4 (Activation)   (None, 16, 16, 256)       0         \n",
            "                                                                 \n",
            " batch_normalization_4 (Batc  (None, 16, 16, 256)      1024      \n",
            " hNormalization)                                                 \n",
            "                                                                 \n",
            " conv2d_5 (Conv2D)           (None, 16, 16, 256)       590080    \n",
            "                                                                 \n",
            " activation_5 (Activation)   (None, 16, 16, 256)       0         \n",
            "                                                                 \n",
            " batch_normalization_5 (Batc  (None, 16, 16, 256)      1024      \n",
            " hNormalization)                                                 \n",
            "                                                                 \n",
            " conv2d_6 (Conv2D)           (None, 16, 16, 256)       590080    \n",
            "                                                                 \n",
            " activation_6 (Activation)   (None, 16, 16, 256)       0         \n",
            "                                                                 \n",
            " batch_normalization_6 (Batc  (None, 16, 16, 256)      1024      \n",
            " hNormalization)                                                 \n",
            "                                                                 \n",
            " conv2d_7 (Conv2D)           (None, 16, 16, 256)       590080    \n",
            "                                                                 \n",
            " activation_7 (Activation)   (None, 16, 16, 256)       0         \n",
            "                                                                 \n",
            " max_pooling2d_2 (MaxPooling  (None, 8, 8, 256)        0         \n",
            " 2D)                                                             \n",
            "                                                                 \n",
            " batch_normalization_7 (Batc  (None, 8, 8, 256)        1024      \n",
            " hNormalization)                                                 \n",
            "                                                                 \n",
            " conv2d_8 (Conv2D)           (None, 8, 8, 512)         1180160   \n",
            "                                                                 \n",
            " activation_8 (Activation)   (None, 8, 8, 512)         0         \n",
            "                                                                 \n",
            " batch_normalization_8 (Batc  (None, 8, 8, 512)        2048      \n",
            " hNormalization)                                                 \n",
            "                                                                 \n",
            " conv2d_9 (Conv2D)           (None, 8, 8, 512)         2359808   \n",
            "                                                                 \n",
            " activation_9 (Activation)   (None, 8, 8, 512)         0         \n",
            "                                                                 \n",
            " batch_normalization_9 (Batc  (None, 8, 8, 512)        2048      \n",
            " hNormalization)                                                 \n",
            "                                                                 \n",
            " conv2d_10 (Conv2D)          (None, 8, 8, 512)         2359808   \n",
            "                                                                 \n",
            " activation_10 (Activation)  (None, 8, 8, 512)         0         \n",
            "                                                                 \n",
            " batch_normalization_10 (Bat  (None, 8, 8, 512)        2048      \n",
            " chNormalization)                                                \n",
            "                                                                 \n",
            " conv2d_11 (Conv2D)          (None, 8, 8, 512)         2359808   \n",
            "                                                                 \n",
            " activation_11 (Activation)  (None, 8, 8, 512)         0         \n",
            "                                                                 \n",
            " max_pooling2d_3 (MaxPooling  (None, 4, 4, 512)        0         \n",
            " 2D)                                                             \n",
            "                                                                 \n",
            " batch_normalization_11 (Bat  (None, 4, 4, 512)        2048      \n",
            " chNormalization)                                                \n",
            "                                                                 \n",
            " conv2d_12 (Conv2D)          (None, 4, 4, 512)         2359808   \n",
            "                                                                 \n",
            " activation_12 (Activation)  (None, 4, 4, 512)         0         \n",
            "                                                                 \n",
            " batch_normalization_12 (Bat  (None, 4, 4, 512)        2048      \n",
            " chNormalization)                                                \n",
            "                                                                 \n",
            " conv2d_13 (Conv2D)          (None, 4, 4, 512)         2359808   \n",
            "                                                                 \n",
            " activation_13 (Activation)  (None, 4, 4, 512)         0         \n",
            "                                                                 \n",
            " batch_normalization_13 (Bat  (None, 4, 4, 512)        2048      \n",
            " chNormalization)                                                \n",
            "                                                                 \n",
            " conv2d_14 (Conv2D)          (None, 4, 4, 512)         2359808   \n",
            "                                                                 \n",
            " activation_14 (Activation)  (None, 4, 4, 512)         0         \n",
            "                                                                 \n",
            " batch_normalization_14 (Bat  (None, 4, 4, 512)        2048      \n",
            " chNormalization)                                                \n",
            "                                                                 \n",
            " conv2d_15 (Conv2D)          (None, 4, 4, 512)         2359808   \n",
            "                                                                 \n",
            " activation_15 (Activation)  (None, 4, 4, 512)         0         \n",
            "                                                                 \n",
            " max_pooling2d_4 (MaxPooling  (None, 2, 2, 512)        0         \n",
            " 2D)                                                             \n",
            "                                                                 \n",
            " batch_normalization_15 (Bat  (None, 2, 2, 512)        2048      \n",
            " chNormalization)                                                \n",
            "                                                                 \n",
            " flatten (Flatten)           (None, 2048)              0         \n",
            "                                                                 \n",
            " dense (Dense)               (None, 4096)              8392704   \n",
            "                                                                 \n",
            " activation_16 (Activation)  (None, 4096)              0         \n",
            "                                                                 \n",
            " batch_normalization_16 (Bat  (None, 4096)             16384     \n",
            " chNormalization)                                                \n",
            "                                                                 \n",
            " dropout (Dropout)           (None, 4096)              0         \n",
            "                                                                 \n",
            " dense_1 (Dense)             (None, 4096)              16781312  \n",
            "                                                                 \n",
            " activation_17 (Activation)  (None, 4096)              0         \n",
            "                                                                 \n",
            " batch_normalization_17 (Bat  (None, 4096)             16384     \n",
            " chNormalization)                                                \n",
            "                                                                 \n",
            " dropout_1 (Dropout)         (None, 4096)              0         \n",
            "                                                                 \n",
            " dense_2 (Dense)             (None, 1000)              4097000   \n",
            "                                                                 \n",
            " activation_18 (Activation)  (None, 1000)              0         \n",
            "                                                                 \n",
            " batch_normalization_18 (Bat  (None, 1000)             4000      \n",
            " chNormalization)                                                \n",
            "                                                                 \n",
            " dropout_2 (Dropout)         (None, 1000)              0         \n",
            "                                                                 \n",
            " dense_3 (Dense)             (None, 2)                 2002      \n",
            "                                                                 \n",
            "=================================================================\n",
            "Total params: 49,355,034\n",
            "Trainable params: 49,325,642\n",
            "Non-trainable params: 29,392\n",
            "_________________________________________________________________\n"
          ]
        }
      ],
      "source": [
        "num_classes=2\n",
        "vgg19=vgg19(num_classes)\n",
        "vgg19.summary()"
      ]
    },
    {
      "cell_type": "code",
      "execution_count": 12,
      "metadata": {
        "colab": {
          "base_uri": "https://localhost:8080/"
        },
        "id": "vfmkSFf7l90F",
        "outputId": "7c6a29d7-68e9-4ec8-dce7-11d391347884"
      },
      "outputs": [
        {
          "output_type": "stream",
          "name": "stdout",
          "text": [
            "Model: \"sequential\"\n",
            "_________________________________________________________________\n",
            " Layer (type)                Output Shape              Param #   \n",
            "=================================================================\n",
            " conv2d (Conv2D)             (None, 64, 64, 64)        640       \n",
            "                                                                 \n",
            " activation (Activation)     (None, 64, 64, 64)        0         \n",
            "                                                                 \n",
            " batch_normalization (BatchN  (None, 64, 64, 64)       256       \n",
            " ormalization)                                                   \n",
            "                                                                 \n",
            " conv2d_1 (Conv2D)           (None, 64, 64, 64)        36928     \n",
            "                                                                 \n",
            " activation_1 (Activation)   (None, 64, 64, 64)        0         \n",
            "                                                                 \n",
            " max_pooling2d (MaxPooling2D  (None, 32, 32, 64)       0         \n",
            " )                                                               \n",
            "                                                                 \n",
            " batch_normalization_1 (Batc  (None, 32, 32, 64)       256       \n",
            " hNormalization)                                                 \n",
            "                                                                 \n",
            " conv2d_2 (Conv2D)           (None, 32, 32, 128)       73856     \n",
            "                                                                 \n",
            " activation_2 (Activation)   (None, 32, 32, 128)       0         \n",
            "                                                                 \n",
            " batch_normalization_2 (Batc  (None, 32, 32, 128)      512       \n",
            " hNormalization)                                                 \n",
            "                                                                 \n",
            " conv2d_3 (Conv2D)           (None, 32, 32, 128)       147584    \n",
            "                                                                 \n",
            " activation_3 (Activation)   (None, 32, 32, 128)       0         \n",
            "                                                                 \n",
            " max_pooling2d_1 (MaxPooling  (None, 16, 16, 128)      0         \n",
            " 2D)                                                             \n",
            "                                                                 \n",
            " batch_normalization_3 (Batc  (None, 16, 16, 128)      512       \n",
            " hNormalization)                                                 \n",
            "                                                                 \n",
            " conv2d_4 (Conv2D)           (None, 16, 16, 256)       295168    \n",
            "                                                                 \n",
            " activation_4 (Activation)   (None, 16, 16, 256)       0         \n",
            "                                                                 \n",
            " batch_normalization_4 (Batc  (None, 16, 16, 256)      1024      \n",
            " hNormalization)                                                 \n",
            "                                                                 \n",
            " conv2d_5 (Conv2D)           (None, 16, 16, 256)       590080    \n",
            "                                                                 \n",
            " activation_5 (Activation)   (None, 16, 16, 256)       0         \n",
            "                                                                 \n",
            " batch_normalization_5 (Batc  (None, 16, 16, 256)      1024      \n",
            " hNormalization)                                                 \n",
            "                                                                 \n",
            " conv2d_6 (Conv2D)           (None, 16, 16, 256)       590080    \n",
            "                                                                 \n",
            " activation_6 (Activation)   (None, 16, 16, 256)       0         \n",
            "                                                                 \n",
            " batch_normalization_6 (Batc  (None, 16, 16, 256)      1024      \n",
            " hNormalization)                                                 \n",
            "                                                                 \n",
            " conv2d_7 (Conv2D)           (None, 16, 16, 256)       590080    \n",
            "                                                                 \n",
            " activation_7 (Activation)   (None, 16, 16, 256)       0         \n",
            "                                                                 \n",
            " max_pooling2d_2 (MaxPooling  (None, 8, 8, 256)        0         \n",
            " 2D)                                                             \n",
            "                                                                 \n",
            " batch_normalization_7 (Batc  (None, 8, 8, 256)        1024      \n",
            " hNormalization)                                                 \n",
            "                                                                 \n",
            " conv2d_8 (Conv2D)           (None, 8, 8, 512)         1180160   \n",
            "                                                                 \n",
            " activation_8 (Activation)   (None, 8, 8, 512)         0         \n",
            "                                                                 \n",
            " batch_normalization_8 (Batc  (None, 8, 8, 512)        2048      \n",
            " hNormalization)                                                 \n",
            "                                                                 \n",
            " conv2d_9 (Conv2D)           (None, 8, 8, 512)         2359808   \n",
            "                                                                 \n",
            " activation_9 (Activation)   (None, 8, 8, 512)         0         \n",
            "                                                                 \n",
            " batch_normalization_9 (Batc  (None, 8, 8, 512)        2048      \n",
            " hNormalization)                                                 \n",
            "                                                                 \n",
            " conv2d_10 (Conv2D)          (None, 8, 8, 512)         2359808   \n",
            "                                                                 \n",
            " activation_10 (Activation)  (None, 8, 8, 512)         0         \n",
            "                                                                 \n",
            " batch_normalization_10 (Bat  (None, 8, 8, 512)        2048      \n",
            " chNormalization)                                                \n",
            "                                                                 \n",
            " conv2d_11 (Conv2D)          (None, 8, 8, 512)         2359808   \n",
            "                                                                 \n",
            " activation_11 (Activation)  (None, 8, 8, 512)         0         \n",
            "                                                                 \n",
            " max_pooling2d_3 (MaxPooling  (None, 4, 4, 512)        0         \n",
            " 2D)                                                             \n",
            "                                                                 \n",
            " batch_normalization_11 (Bat  (None, 4, 4, 512)        2048      \n",
            " chNormalization)                                                \n"
          ]
        },
        {
          "output_type": "stream",
          "name": "stderr",
          "text": [
            "/usr/local/lib/python3.7/dist-packages/keras/optimizer_v2/rmsprop.py:130: UserWarning: The `lr` argument is deprecated, use `learning_rate` instead.\n",
            "  super(RMSprop, self).__init__(name, **kwargs)\n"
          ]
        },
        {
          "output_type": "stream",
          "name": "stdout",
          "text": [
            "                                                                 \n",
            " conv2d_12 (Conv2D)          (None, 4, 4, 512)         2359808   \n",
            "                                                                 \n",
            " activation_12 (Activation)  (None, 4, 4, 512)         0         \n",
            "                                                                 \n",
            " batch_normalization_12 (Bat  (None, 4, 4, 512)        2048      \n",
            " chNormalization)                                                \n",
            "                                                                 \n",
            " conv2d_13 (Conv2D)          (None, 4, 4, 512)         2359808   \n",
            "                                                                 \n",
            " activation_13 (Activation)  (None, 4, 4, 512)         0         \n",
            "                                                                 \n",
            " batch_normalization_13 (Bat  (None, 4, 4, 512)        2048      \n",
            " chNormalization)                                                \n",
            "                                                                 \n",
            " conv2d_14 (Conv2D)          (None, 4, 4, 512)         2359808   \n",
            "                                                                 \n",
            " activation_14 (Activation)  (None, 4, 4, 512)         0         \n",
            "                                                                 \n",
            " batch_normalization_14 (Bat  (None, 4, 4, 512)        2048      \n",
            " chNormalization)                                                \n",
            "                                                                 \n",
            " conv2d_15 (Conv2D)          (None, 4, 4, 512)         2359808   \n",
            "                                                                 \n",
            " activation_15 (Activation)  (None, 4, 4, 512)         0         \n",
            "                                                                 \n",
            " max_pooling2d_4 (MaxPooling  (None, 2, 2, 512)        0         \n",
            " 2D)                                                             \n",
            "                                                                 \n",
            " batch_normalization_15 (Bat  (None, 2, 2, 512)        2048      \n",
            " chNormalization)                                                \n",
            "                                                                 \n",
            " flatten (Flatten)           (None, 2048)              0         \n",
            "                                                                 \n",
            " dense (Dense)               (None, 4096)              8392704   \n",
            "                                                                 \n",
            " activation_16 (Activation)  (None, 4096)              0         \n",
            "                                                                 \n",
            " batch_normalization_16 (Bat  (None, 4096)             16384     \n",
            " chNormalization)                                                \n",
            "                                                                 \n",
            " dropout (Dropout)           (None, 4096)              0         \n",
            "                                                                 \n",
            " dense_1 (Dense)             (None, 4096)              16781312  \n",
            "                                                                 \n",
            " activation_17 (Activation)  (None, 4096)              0         \n",
            "                                                                 \n",
            " batch_normalization_17 (Bat  (None, 4096)             16384     \n",
            " chNormalization)                                                \n",
            "                                                                 \n",
            " dropout_1 (Dropout)         (None, 4096)              0         \n",
            "                                                                 \n",
            " dense_2 (Dense)             (None, 1000)              4097000   \n",
            "                                                                 \n",
            " activation_18 (Activation)  (None, 1000)              0         \n",
            "                                                                 \n",
            " batch_normalization_18 (Bat  (None, 1000)             4000      \n",
            " chNormalization)                                                \n",
            "                                                                 \n",
            " dropout_2 (Dropout)         (None, 1000)              0         \n",
            "                                                                 \n",
            " dense_3 (Dense)             (None, 2)                 2002      \n",
            "                                                                 \n",
            "=================================================================\n",
            "Total params: 49,355,034\n",
            "Trainable params: 49,325,642\n",
            "Non-trainable params: 29,392\n",
            "_________________________________________________________________\n"
          ]
        }
      ],
      "source": [
        "#setting hyperparameter, menggunakan Adam\n",
        "opt = RMSprop(lr=0.0001)\n",
        "vgg19.compile(loss='categorical_crossentropy', optimizer=opt, metrics=['accuracy'])\n",
        "vgg19.summary()"
      ]
    },
    {
      "cell_type": "code",
      "execution_count": 13,
      "metadata": {
        "colab": {
          "base_uri": "https://localhost:8080/"
        },
        "id": "2MIF8tBZoSih",
        "outputId": "6117549d-3c35-4ae2-82df-2bd3ce69ec0f"
      },
      "outputs": [
        {
          "output_type": "stream",
          "name": "stdout",
          "text": [
            "Epoch 1/30\n",
            "159/159 [==============================] - 29s 78ms/step - loss: 0.6565 - accuracy: 0.8124 - val_loss: 6.5414 - val_accuracy: 0.4779\n",
            "Epoch 2/30\n",
            "159/159 [==============================] - 10s 66ms/step - loss: 0.6048 - accuracy: 0.8404 - val_loss: 8.6732 - val_accuracy: 0.4779\n",
            "Epoch 3/30\n",
            "159/159 [==============================] - 10s 66ms/step - loss: 0.5305 - accuracy: 0.8594 - val_loss: 12.1527 - val_accuracy: 0.4779\n",
            "Epoch 4/30\n",
            "159/159 [==============================] - 11s 66ms/step - loss: 0.4507 - accuracy: 0.8709 - val_loss: 0.3803 - val_accuracy: 0.9132\n",
            "Epoch 5/30\n",
            "159/159 [==============================] - 11s 66ms/step - loss: 0.3498 - accuracy: 0.8831 - val_loss: 1.1665 - val_accuracy: 0.7366\n",
            "Epoch 6/30\n",
            "159/159 [==============================] - 11s 67ms/step - loss: 0.3278 - accuracy: 0.9001 - val_loss: 0.3074 - val_accuracy: 0.9274\n",
            "Epoch 7/30\n",
            "159/159 [==============================] - 11s 68ms/step - loss: 0.3034 - accuracy: 0.9052 - val_loss: 0.9957 - val_accuracy: 0.8265\n",
            "Epoch 8/30\n",
            "159/159 [==============================] - 11s 68ms/step - loss: 0.2328 - accuracy: 0.9269 - val_loss: 0.6811 - val_accuracy: 0.8549\n",
            "Epoch 9/30\n",
            "159/159 [==============================] - 11s 68ms/step - loss: 0.2237 - accuracy: 0.9269 - val_loss: 0.2613 - val_accuracy: 0.9117\n",
            "Epoch 10/30\n",
            "159/159 [==============================] - 11s 68ms/step - loss: 0.1972 - accuracy: 0.9380 - val_loss: 0.1971 - val_accuracy: 0.9464\n",
            "Epoch 11/30\n",
            "159/159 [==============================] - 11s 68ms/step - loss: 0.1523 - accuracy: 0.9538 - val_loss: 0.3850 - val_accuracy: 0.9401\n",
            "Epoch 12/30\n",
            "159/159 [==============================] - 11s 69ms/step - loss: 0.1507 - accuracy: 0.9554 - val_loss: 0.1779 - val_accuracy: 0.9590\n",
            "Epoch 13/30\n",
            "159/159 [==============================] - 11s 69ms/step - loss: 0.1348 - accuracy: 0.9597 - val_loss: 0.2661 - val_accuracy: 0.9416\n",
            "Epoch 14/30\n",
            "159/159 [==============================] - 11s 69ms/step - loss: 0.1108 - accuracy: 0.9680 - val_loss: 0.5611 - val_accuracy: 0.8675\n",
            "Epoch 15/30\n",
            "159/159 [==============================] - 11s 69ms/step - loss: 0.0927 - accuracy: 0.9727 - val_loss: 0.2743 - val_accuracy: 0.9543\n",
            "Epoch 16/30\n",
            "159/159 [==============================] - 11s 70ms/step - loss: 0.0710 - accuracy: 0.9838 - val_loss: 0.3619 - val_accuracy: 0.9385\n",
            "Epoch 17/30\n",
            "159/159 [==============================] - 11s 69ms/step - loss: 0.0700 - accuracy: 0.9806 - val_loss: 0.2650 - val_accuracy: 0.9543\n",
            "Epoch 18/30\n",
            "159/159 [==============================] - 11s 69ms/step - loss: 0.0604 - accuracy: 0.9874 - val_loss: 0.3279 - val_accuracy: 0.9479\n",
            "Epoch 19/30\n",
            "159/159 [==============================] - 11s 69ms/step - loss: 0.0554 - accuracy: 0.9862 - val_loss: 0.3496 - val_accuracy: 0.9479\n",
            "Epoch 20/30\n",
            "159/159 [==============================] - 11s 69ms/step - loss: 0.0451 - accuracy: 0.9870 - val_loss: 0.3060 - val_accuracy: 0.9543\n",
            "Epoch 21/30\n",
            "159/159 [==============================] - 11s 69ms/step - loss: 0.0308 - accuracy: 0.9917 - val_loss: 0.3055 - val_accuracy: 0.9511\n",
            "Epoch 22/30\n",
            "159/159 [==============================] - 11s 69ms/step - loss: 0.0420 - accuracy: 0.9917 - val_loss: 0.6758 - val_accuracy: 0.9164\n",
            "Epoch 23/30\n",
            "159/159 [==============================] - 11s 69ms/step - loss: 0.0349 - accuracy: 0.9925 - val_loss: 0.2956 - val_accuracy: 0.9543\n",
            "Epoch 24/30\n",
            "159/159 [==============================] - 11s 70ms/step - loss: 0.0442 - accuracy: 0.9933 - val_loss: 0.2636 - val_accuracy: 0.9543\n",
            "Epoch 25/30\n",
            "159/159 [==============================] - 11s 69ms/step - loss: 0.0357 - accuracy: 0.9905 - val_loss: 0.3272 - val_accuracy: 0.9511\n",
            "Epoch 26/30\n",
            "159/159 [==============================] - 11s 69ms/step - loss: 0.0311 - accuracy: 0.9949 - val_loss: 0.3519 - val_accuracy: 0.9495\n",
            "Epoch 27/30\n",
            "159/159 [==============================] - 11s 69ms/step - loss: 0.0310 - accuracy: 0.9905 - val_loss: 0.2420 - val_accuracy: 0.9637\n",
            "Epoch 28/30\n",
            "159/159 [==============================] - 11s 69ms/step - loss: 0.0249 - accuracy: 0.9949 - val_loss: 0.3682 - val_accuracy: 0.9479\n",
            "Epoch 29/30\n",
            "159/159 [==============================] - 11s 69ms/step - loss: 0.0297 - accuracy: 0.9933 - val_loss: 0.3584 - val_accuracy: 0.9527\n",
            "Epoch 30/30\n",
            "159/159 [==============================] - 11s 69ms/step - loss: 0.0112 - accuracy: 0.9976 - val_loss: 0.4050 - val_accuracy: 0.9606\n"
          ]
        }
      ],
      "source": [
        "#training data\n",
        "H = vgg19.fit(trainX, trainY, validation_data=(testX, testY), epochs=30, batch_size=16)"
      ]
    },
    {
      "cell_type": "code",
      "execution_count": 14,
      "metadata": {
        "colab": {
          "base_uri": "https://localhost:8080/"
        },
        "id": "_B1Zc9CK76XA",
        "outputId": "9aa4b780-d930-4fc4-f026-e9693fefcd6f"
      },
      "outputs": [
        {
          "output_type": "stream",
          "name": "stdout",
          "text": [
            "[INFO] evaluating network...\n"
          ]
        }
      ],
      "source": [
        "print(\"[INFO] evaluating network...\")\n",
        "predictions = vgg19.predict(testX, batch_size=16)\n",
        "pred=predictions.argmax(axis=1)\n",
        "testY_argm=testY.argmax(axis=1)\n"
      ]
    },
    {
      "cell_type": "code",
      "execution_count": 15,
      "metadata": {
        "colab": {
          "base_uri": "https://localhost:8080/"
        },
        "id": "H-0h97OO8Lpw",
        "outputId": "5ba7689f-960d-43b0-f029-76adf207d684"
      },
      "outputs": [
        {
          "output_type": "stream",
          "name": "stdout",
          "text": [
            "              precision    recall  f1-score   support\n",
            "\n",
            "      Normal       0.95      0.97      0.96       303\n",
            "   Pneumonia       0.97      0.95      0.96       331\n",
            "\n",
            "    accuracy                           0.96       634\n",
            "   macro avg       0.96      0.96      0.96       634\n",
            "weighted avg       0.96      0.96      0.96       634\n",
            "\n"
          ]
        }
      ],
      "source": [
        "print(classification_report(testY_argm,pred,target_names=lb.classes_))"
      ]
    },
    {
      "cell_type": "code",
      "execution_count": 16,
      "metadata": {
        "colab": {
          "base_uri": "https://localhost:8080/"
        },
        "id": "bu_rtCRz8OGU",
        "outputId": "f5325a2a-2712-4b34-a0b5-c0a49de9a5ab"
      },
      "outputs": [
        {
          "output_type": "stream",
          "name": "stdout",
          "text": [
            "20/20 [==============================] - 2s 56ms/step - loss: 0.4050 - accuracy: 0.9606\n",
            "Test Loss 0.4050, accuracy 96.06%\n"
          ]
        }
      ],
      "source": [
        "test_score = vgg19.evaluate(testX, testY) \n",
        "print(\"Test Loss {:.4f}, accuracy {:.2f}%\".format(test_score[0], test_score[1] * 100))"
      ]
    },
    {
      "cell_type": "code",
      "execution_count": 17,
      "metadata": {
        "id": "UMD619SS9sja"
      },
      "outputs": [],
      "source": [
        "from sklearn.metrics import confusion_matrix\n",
        "import itertools\n",
        "\n",
        "def plot_confusion_matrix(cm, classes, normalize=False, title='Confusion matrix', cmap='Blues'):\n",
        "  if normalize:\n",
        "     cm = cm.astype('float') / cm.sum(axis=1)[:, np.newaxis]\n",
        "     print(\"Normalized confusion matrix\")\n",
        "  else:\n",
        "     print('Confusion matrix, without normalization')\n",
        "  print(cm)\n",
        "  plt.imshow(cm, interpolation='nearest', cmap=cmap)\n",
        "  plt.title(title)\n",
        "  plt.colorbar()\n",
        "  tick_marks = np.arange(len(classes))\n",
        "  plt.xticks(tick_marks, classes, rotation=45)\n",
        "  plt.yticks(tick_marks, classes)\n",
        "  fmt = '.2f' if normalize else 'd'\n",
        "  thresh = cm.max() / 2.\n",
        "  for i, j in itertools.product(range(cm.shape[0]), range(cm.shape[1])):\n",
        "      plt.text(j, i, format(cm[i, j], fmt), horizontalalignment=\"center\", color=\"white\" if cm[i, j] > thresh else \"black\")\n",
        "  plt.ylabel('True label')\n",
        "  plt.xlabel('Predicted label')\n",
        "  plt.tight_layout()"
      ]
    },
    {
      "cell_type": "code",
      "execution_count": 18,
      "metadata": {
        "colab": {
          "base_uri": "https://localhost:8080/",
          "height": 1000
        },
        "id": "kRdOSf5d9zSw",
        "outputId": "af56307c-1f11-4850-8bb3-001f2bbe4c28"
      },
      "outputs": [
        {
          "output_type": "stream",
          "name": "stdout",
          "text": [
            "Normalized confusion matrix\n",
            "[[0.97 0.03]\n",
            " [0.05 0.95]]\n"
          ]
        },
        {
          "output_type": "display_data",
          "data": {
            "text/plain": [
              "<Figure size 432x288 with 2 Axes>"
            ],
            "image/png": "[encoded data removed]"
          },
          "metadata": {
            "needs_background": "light"
          }
        },
        {
          "output_type": "stream",
          "name": "stdout",
          "text": [
            "Confusion matrix, without normalization\n",
            "[[294   9]\n",
            " [ 16 315]]\n"
          ]
        },
        {
          "output_type": "display_data",
          "data": {
            "text/plain": [
              "<Figure size 432x288 with 2 Axes>"
            ],
            "image/png": "[encoded data removed]"
          },
          "metadata": {
            "needs_background": "light"
          }
        },
        {
          "output_type": "display_data",
          "data": {
            "text/plain": [
              "<Figure size 432x288 with 1 Axes>"
            ],
            "image/png": "[encoded data removed]"
          },
          "metadata": {
            "needs_background": "light"
          }
        },
        {
          "output_type": "display_data",
          "data": {
            "text/plain": [
              "<Figure size 432x288 with 1 Axes>"
            ],
            "image/png": "[encoded data removed]"
          },
          "metadata": {
            "needs_background": "light"
          }
        }
      ],
      "source": [
        "cnf_matrix = confusion_matrix(testY_argm, pred)\n",
        "np.set_printoptions(precision=2)\n",
        "\n",
        "# Plot non/normalized confusion matrix\n",
        "plt.figure()\n",
        "plot_confusion_matrix(cnf_matrix,\n",
        "classes=lb.classes_, normalize=True)\n",
        "plt.show()\n",
        "\n",
        "plt.figure()\n",
        "plot_confusion_matrix(cnf_matrix,\n",
        "classes=lb.classes_, normalize=False)\n",
        "plt.show()\n",
        "\n",
        "f, ax = plt.subplots()\n",
        "ax.plot([None] + H.history['accuracy'], 'o-')\n",
        "ax.plot([None] + H.history['val_accuracy'], 'x-')\n",
        "\n",
        "ax.legend(['Train acc', 'Validation acc'], loc = 0)\n",
        "ax.set_title('Training/Validation acc per Epoch')\n",
        "ax.set_xlabel('Epoch')\n",
        "ax.set_ylabel('acc')\n",
        "plt.grid(True)\n",
        "\n",
        "f, ax = plt.subplots()\n",
        "ax.plot([None] + H.history['loss'], 'o-')\n",
        "ax.plot([None] + H.history['val_loss'], 'x-')\n",
        "ax.legend(['Train Loss', 'Validation Loss'], loc = 0)\n",
        "ax.set_title('Training/Validation Loss per Epoch')\n",
        "ax.set_xlabel('Epoch')\n",
        "ax.set_ylabel('loss')\n",
        "plt.grid(True)"
      ]
    }
  ],
  "metadata": {
    "colab": {
      "name": "pneumonia vgg 19.ipynb",
      "provenance": [],
      "authorship_tag": "ABX9TyNxxcGLQ+LnjjKho2yq5m0N",
      "include_colab_link": true
    },
    "gpuClass": "standard",
    "kernelspec": {
      "display_name": "Python 3",
      "name": "python3"
    },
    "language_info": {
      "name": "python"
    },
    "accelerator": "GPU"
  },
  "nbformat": 4,
  "nbformat_minor": 0
}